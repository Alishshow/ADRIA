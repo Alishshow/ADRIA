{
 "cells": [
  {
   "cell_type": "code",
   "execution_count": null,
   "metadata": {},
   "outputs": [],
   "source": [
    "# import rozneho potrebneho...\n",
    "\n",
    "%load_ext autoreload\n",
    "%autoreload\n",
    "\n",
    "%matplotlib nbagg\n",
    "\n",
    "import numpy as np\n",
    "from scipy.integrate import odeint\n",
    "\n",
    "import sys\n",
    "sys.path.append('./misc/')\n",
    "\n",
    "from figFcns_nb import *"
   ]
  },
  {
   "cell_type": "markdown",
   "metadata": {},
   "source": [
    "# Príklad realizácie niektorých úloh cvičenia prvého"
   ]
  },
  {
   "cell_type": "markdown",
   "metadata": {},
   "source": [
    "Uvažujme riadený systém v tvare\n",
    "\t\\begin{equation}\n",
    "\t\t\\dot{x}(t) = a\\, x(t) + u(t) \\label{sustavaNaCv}\n",
    "\t\\end{equation}\n",
    "\tkde $x(t)$ je stavová veličina sytému, $u(t)$ je akčný zásah (výstup) regulátora. Parameter $a$ je neznáma konštanta.    "
   ]
  },
  {
   "cell_type": "markdown",
   "metadata": {},
   "source": [
    "Funkcia, ktorá realizuje diferenciálnu rovnicu riadeného systému, nech je v nasledujúcom tvare, kde sa hneď aj predpokladá, že $u(t)=0$."
   ]
  },
  {
   "cell_type": "code",
   "execution_count": null,
   "metadata": {},
   "outputs": [],
   "source": [
    "def fcn_difRovnice_01(x, t, param_a):\n",
    "\n",
    "    a = param_a\n",
    "\n",
    "    u = 0\n",
    "\n",
    "    dotx = a*x + u\n",
    "\n",
    "    return dotx"
   ]
  },
  {
   "cell_type": "markdown",
   "metadata": {},
   "source": [
    "Zostavme simulačnú schému pre riadený systém. Zvoľme konkrétnu hodnotu parametra $a$ tak aby riadený systém bol stabilný. Nech začiatočný stav je $x(0) = 1$ a $u(t)=0$. Simuláciou (pre vhodný časový úsek) ukážme, že $x = 0$ je rovnovážny stav riadeného systému.\n",
    "\n",
    "Simulačnú schému nech realizuje nasledujúca funkcia:"
   ]
  },
  {
   "cell_type": "code",
   "execution_count": null,
   "metadata": {},
   "outputs": [],
   "source": [
    "def fcn_simSch_01(t_start, t_final, T_s, param_a):\n",
    "\n",
    "    #-----------------------------------------\n",
    "    t_log = np.arange(sim_t_start, sim_t_final+sim_T_s, sim_T_s).reshape(-1,1)\n",
    "\n",
    "    #-----------------------------------------\n",
    "    x_0 = 1\n",
    "\n",
    "    #-----------------------------------------\n",
    "    odeOut = odeint(fcn_difRovnice_01,\n",
    "                    x_0,\n",
    "                    t_log[:,0],\n",
    "                    args=(param_a,)\n",
    "                    )\n",
    "\n",
    "    return [t_log, odeOut]"
   ]
  },
  {
   "cell_type": "markdown",
   "metadata": {},
   "source": [
    "Nastavme a spustime simuláciu:"
   ]
  },
  {
   "cell_type": "code",
   "execution_count": null,
   "metadata": {},
   "outputs": [],
   "source": [
    "# Nastavenia simulacie\n",
    "\n",
    "sim_t_start = 0\n",
    "sim_t_final = 3\n",
    "sim_T_s = 0.1\n",
    "\n",
    "param_a = -1\n",
    "\n",
    "\n",
    "# Simulacia\n",
    "\n",
    "t_log, x_log, = fcn_simSch_01(sim_t_start, sim_t_final, sim_T_s, param_a)"
   ]
  },
  {
   "cell_type": "markdown",
   "metadata": {},
   "source": [
    "Všetko potrebné je teraz zaznamenáné v premenných  ```t_log``` a ```x_log```. Nakreslime obrázok (pre prehľadnosť je kód kreslenia obrázku v samostatnom súbore a nie priamo tu v nasledujúcej bunke):"
   ]
  },
  {
   "cell_type": "code",
   "execution_count": null,
   "metadata": {},
   "outputs": [],
   "source": [
    "# Obrazok\n",
    "exec(open('misc/figsc_00_nb.py', encoding='utf-8').read())"
   ]
  },
  {
   "cell_type": "markdown",
   "metadata": {},
   "source": [
    "V prípade, že parameter $a$ je zvolený tak aby bol riadený systém nestabilný, výsledok je:"
   ]
  },
  {
   "cell_type": "code",
   "execution_count": null,
   "metadata": {},
   "outputs": [],
   "source": [
    "param_a = 1\n",
    "\n",
    "# Simulacia\n",
    "\n",
    "t_log, x_log, = fcn_simSch_01(sim_t_start, sim_t_final, sim_T_s, param_a)"
   ]
  },
  {
   "cell_type": "code",
   "execution_count": null,
   "metadata": {},
   "outputs": [],
   "source": [
    "# Obrazok\n",
    "exec(open('misc/figsc_01_nb.py', encoding='utf-8').read())"
   ]
  },
  {
   "cell_type": "markdown",
   "metadata": {},
   "source": [
    "Nech začiatočný stav riadeného systému je $x(0) = 1$. Ponechajme konkrétnu hodnotu parametra $a$ tak aby riadený systém bol nestabilný. Pridajme k riadenému systému riadiaci systém daný nasledovne:\n",
    "\t\\begin{equation}\n",
    "\t\tu = -k\\, x; \\qquad \\dot{k} = x^2\n",
    "\t\\end{equation}\n",
    "Simuláciou vyšetrime stabilitu URO."
   ]
  },
  {
   "cell_type": "markdown",
   "metadata": {},
   "source": [
    "Funkcia, ktorá realizuje potrebné diferenciálne rovnice nech je nasledovná:"
   ]
  },
  {
   "cell_type": "code",
   "execution_count": null,
   "metadata": {},
   "outputs": [],
   "source": [
    "def fcn_difRovnice_02(x, t, param_a):\n",
    "\n",
    "    x, k = x\n",
    "\n",
    "    a = param_a\n",
    "\n",
    "    dotk = x**2\n",
    "\n",
    "    u = -k*x\n",
    "\n",
    "    dotx = a*x + u\n",
    "\n",
    "    return [dotx, dotk]"
   ]
  },
  {
   "cell_type": "markdown",
   "metadata": {},
   "source": [
    "Simulačná schéma, opäť realizovaná ako funkcia:"
   ]
  },
  {
   "cell_type": "code",
   "execution_count": null,
   "metadata": {},
   "outputs": [],
   "source": [
    "def fcn_simSch_02(t_start, t_final, T_s, param_a):\n",
    "\n",
    "    #-----------------------------------------\n",
    "    t_log = np.arange(sim_t_start, sim_t_final+sim_T_s, sim_T_s).reshape(-1,1)\n",
    "\n",
    "    #-----------------------------------------\n",
    "    x_0 = [1, 0]\n",
    "\n",
    "    #-----------------------------------------\n",
    "    odeOut = odeint(fcn_difRovnice_02,\n",
    "                    x_0,\n",
    "                    t_log[:,0],\n",
    "                    args=(param_a,)\n",
    "                    )\n",
    "\n",
    "    return [t_log, odeOut]"
   ]
  },
  {
   "cell_type": "markdown",
   "metadata": {},
   "source": [
    "Nastavenie a spustenie simulácie, pričom pripomeňme, že parameter $a$ je stále nastavený tak, aby riadený systém bol nestabilný."
   ]
  },
  {
   "cell_type": "code",
   "execution_count": null,
   "metadata": {},
   "outputs": [],
   "source": [
    "# Nastavenia simulacie\n",
    "\n",
    "sim_t_start = 0\n",
    "sim_t_final = 5\n",
    "sim_T_s = 0.05\n",
    "\n",
    "\n",
    "# Simulacia\n",
    "\n",
    "t_log, x_log, = fcn_simSch_02(sim_t_start, sim_t_final, sim_T_s, param_a)"
   ]
  },
  {
   "cell_type": "markdown",
   "metadata": {},
   "source": [
    "Obrázok, ktorý zobrazuje okrem výstupnej veličiny riadeného systému aj iné veličiny potrebné pre posúdenie stability celého uzavretého regulačného obvodu."
   ]
  },
  {
   "cell_type": "code",
   "execution_count": null,
   "metadata": {},
   "outputs": [],
   "source": [
    "# Obrazok\n",
    "exec(open('misc/figsc_02_nb.py', encoding='utf-8').read())"
   ]
  },
  {
   "cell_type": "markdown",
   "metadata": {},
   "source": [
    "Cieľ riadenia je splnený, čo v tomto prípade znamená, že výstupná veličina sa približuje k nulovej hodnote, a všetky signály uzavretého regulačného obvodu sú ohraničené. To znamená, že URO je stabilný.\n",
    "\n",
    "Podrobnejšia diaskusia z pohľadu Adaptívneho riadenia je nad rámec týchto krátkych poznámok."
   ]
  }
 ],
 "metadata": {
  "kernelspec": {
   "display_name": "Python 3",
   "language": "python",
   "name": "python3"
  },
  "language_info": {
   "codemirror_mode": {
    "name": "ipython",
    "version": 3
   },
   "file_extension": ".py",
   "mimetype": "text/x-python",
   "name": "python",
   "nbconvert_exporter": "python",
   "pygments_lexer": "ipython3",
   "version": "3.7.4"
  }
 },
 "nbformat": 4,
 "nbformat_minor": 2
}
